{
 "cells": [
  {
   "cell_type": "code",
   "execution_count": 20,
   "metadata": {},
   "outputs": [],
   "source": [
    "import glob\n",
    "import re\n",
    "import os\n",
    "import csv"
   ]
  },
  {
   "cell_type": "code",
   "execution_count": 21,
   "metadata": {},
   "outputs": [],
   "source": [
    "path_pattern = 'C:\\\\Users\\\\leon\\\\Desktop\\\\facearttest\\\\*.log'\n",
    "predictions = []\n",
    "for file_path in glob.glob(path_pattern):\n",
    "    match = re.match(\n",
    "        r'(CasualConversations.+)_(\\d+_\\d+)\\.log',\n",
    "        os.path.basename(file_path)\n",
    "    )\n",
    "    subset, filename = match[1], match[2] + '.MP4'\n",
    "    with open(file_path) as log_file:\n",
    "        log_lines = log_file.readlines()\n",
    "    for line in log_lines:\n",
    "        match = re.match(r'^Prob: (\\d+\\.\\d+)$', line)\n",
    "        if match:\n",
    "            prob = match[1]\n",
    "            predictions.append((subset, filename, prob))\n",
    "            break"
   ]
  },
  {
   "cell_type": "code",
   "execution_count": 22,
   "metadata": {},
   "outputs": [
    {
     "data": {
      "text/plain": [
       "1888"
      ]
     },
     "execution_count": 22,
     "metadata": {},
     "output_type": "execute_result"
    }
   ],
   "source": [
    "len(predictions)"
   ]
  },
  {
   "cell_type": "code",
   "execution_count": 23,
   "metadata": {},
   "outputs": [
    {
     "data": {
      "text/plain": [
       "799"
      ]
     },
     "execution_count": 23,
     "metadata": {},
     "output_type": "execute_result"
    }
   ],
   "source": [
    "len(list(filter(lambda x: float(x[2]) >= 0.5, predictions)))"
   ]
  },
  {
   "cell_type": "code",
   "execution_count": 24,
   "metadata": {},
   "outputs": [],
   "source": [
    "csv_path = 'C:\\\\Users\\\\leon\\\\Desktop\\\\faceartifacts.csv'\n",
    "with open(csv_path, 'w', newline='') as csv_file:\n",
    "    csv_writer = csv.writer(csv_file)\n",
    "    csv_writer.writerow(['subset', 'filename', 'prediction'])\n",
    "    csv_writer.writerows(predictions)"
   ]
  },
  {
   "cell_type": "code",
   "execution_count": 25,
   "metadata": {},
   "outputs": [],
   "source": [
    "csv_path = 'C:\\\\Users\\\\leon\\\\Desktop\\\\faceartifacts-fp-only.csv'\n",
    "with open(csv_path, 'w', newline='') as csv_file:\n",
    "    csv_writer = csv.writer(csv_file)\n",
    "    csv_writer.writerow(['subset', 'filename', 'prediction'])\n",
    "    csv_writer.writerows(filter(lambda x: float(x[2]) >= 0.5, predictions))"
   ]
  },
  {
   "cell_type": "code",
   "execution_count": null,
   "metadata": {},
   "outputs": [],
   "source": []
  }
 ],
 "metadata": {
  "interpreter": {
   "hash": "30f210566bbaf12db4321b54eda45f94097bcf3ffb9c1b8dd9360fa034182282"
  },
  "kernelspec": {
   "display_name": "Python 3.9.9 64-bit",
   "language": "python",
   "name": "python3"
  },
  "language_info": {
   "codemirror_mode": {
    "name": "ipython",
    "version": 3
   },
   "file_extension": ".py",
   "mimetype": "text/x-python",
   "name": "python",
   "nbconvert_exporter": "python",
   "pygments_lexer": "ipython3",
   "version": "3.9.9"
  },
  "orig_nbformat": 4
 },
 "nbformat": 4,
 "nbformat_minor": 2
}
