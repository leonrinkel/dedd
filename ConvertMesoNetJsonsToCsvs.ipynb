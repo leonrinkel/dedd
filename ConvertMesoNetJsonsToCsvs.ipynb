{
 "cells": [
  {
   "cell_type": "code",
   "execution_count": 8,
   "metadata": {},
   "outputs": [],
   "source": [
    "import os\n",
    "import glob\n",
    "import json\n",
    "import csv"
   ]
  },
  {
   "cell_type": "code",
   "execution_count": 9,
   "metadata": {},
   "outputs": [],
   "source": [
    "meso4df_predictions = []\n",
    "meso4f2f_predictions = []\n",
    "mesoinception4df_predictions = []\n",
    "mesoinception4f2f_predictions = []\n",
    "path_pattern = 'C:\\\\Users\\\\leon\\\\Desktop\\\\WICHTIG\\\\*.json'\n",
    "for file_path in glob.glob(path_pattern):\n",
    "    with open(file_path) as file:\n",
    "        data = json.load(file)\n",
    "    for item in data:\n",
    "        subset = os.path.basename(os.path.abspath(os.path.join(item['input_dir'], os.path.pardir)))\n",
    "        for filename, prediction in item['predictions'].items():\n",
    "            filename += '.MP4'\n",
    "            p = (subset, filename, prediction[0])\n",
    "            if item['model'] == 'Meso4' and item['weights'] == 'weights/Meso4_DF.h5':\n",
    "                if len(list(filter(lambda x: x[0] == p[0] and x[1] == p[1], meso4df_predictions))) == 0:\n",
    "                    meso4df_predictions.append(p)\n",
    "            elif item['model'] == 'Meso4' and item['weights'] == 'weights/Meso4_F2F.h5':\n",
    "                if len(list(filter(lambda x: x[0] == p[0] and x[1] == p[1], meso4f2f_predictions))) == 0:\n",
    "                    meso4f2f_predictions.append(p)\n",
    "            elif item['model'] == 'MesoInception4' and item['weights'] == 'weights/MesoInception_DF.h5':\n",
    "                if len(list(filter(lambda x: x[0] == p[0] and x[1] == p[1], mesoinception4df_predictions))) == 0:\n",
    "                    mesoinception4df_predictions.append(p)\n",
    "            elif item['model'] == 'MesoInception4' and item['weights'] == 'weights/MesoInception_F2F.h5':\n",
    "                if len(list(filter(lambda x: x[0] == p[0] and x[1] == p[1], mesoinception4f2f_predictions))) == 0:\n",
    "                    mesoinception4f2f_predictions.append(p)"
   ]
  },
  {
   "cell_type": "code",
   "execution_count": 10,
   "metadata": {},
   "outputs": [
    {
     "name": "stdout",
     "output_type": "stream",
     "text": [
      "3824\n",
      "3824\n",
      "3824\n",
      "3824\n"
     ]
    }
   ],
   "source": [
    "print(len(meso4df_predictions))\n",
    "print(len(meso4f2f_predictions))\n",
    "print(len(mesoinception4df_predictions))\n",
    "print(len(mesoinception4f2f_predictions))"
   ]
  },
  {
   "cell_type": "code",
   "execution_count": 11,
   "metadata": {},
   "outputs": [
    {
     "name": "stdout",
     "output_type": "stream",
     "text": [
      "246\n",
      "9\n",
      "111\n",
      "53\n"
     ]
    }
   ],
   "source": [
    "print(len(list(filter(lambda x: float(x[2]) <= 0.5, meso4df_predictions))))\n",
    "print(len(list(filter(lambda x: float(x[2]) <= 0.5, meso4f2f_predictions))))\n",
    "print(len(list(filter(lambda x: float(x[2]) <= 0.5, mesoinception4df_predictions))))\n",
    "print(len(list(filter(lambda x: float(x[2]) <= 0.5, mesoinception4f2f_predictions))))"
   ]
  },
  {
   "cell_type": "code",
   "execution_count": 12,
   "metadata": {},
   "outputs": [],
   "source": [
    "csv_path = 'C:\\\\Users\\\\leon\\\\Desktop\\\\meso4df.csv'\n",
    "with open(csv_path, 'w', newline='') as csv_file:\n",
    "    csv_writer = csv.writer(csv_file)\n",
    "    csv_writer.writerow(['subset', 'filename', 'prediction'])\n",
    "    csv_writer.writerows(meso4df_predictions)"
   ]
  },
  {
   "cell_type": "code",
   "execution_count": 13,
   "metadata": {},
   "outputs": [],
   "source": [
    "csv_path = 'C:\\\\Users\\\\leon\\\\Desktop\\\\meso4df-fp-only.csv'\n",
    "with open(csv_path, 'w', newline='') as csv_file:\n",
    "    csv_writer = csv.writer(csv_file)\n",
    "    csv_writer.writerow(['subset', 'filename', 'prediction'])\n",
    "    csv_writer.writerows(filter(lambda x: float(x[2]) <= 0.5, meso4df_predictions))"
   ]
  },
  {
   "cell_type": "code",
   "execution_count": 14,
   "metadata": {},
   "outputs": [],
   "source": [
    "csv_path = 'C:\\\\Users\\\\leon\\\\Desktop\\\\meso4f2f.csv'\n",
    "with open(csv_path, 'w', newline='') as csv_file:\n",
    "    csv_writer = csv.writer(csv_file)\n",
    "    csv_writer.writerow(['subset', 'filename', 'prediction'])\n",
    "    csv_writer.writerows(meso4f2f_predictions)"
   ]
  },
  {
   "cell_type": "code",
   "execution_count": 15,
   "metadata": {},
   "outputs": [],
   "source": [
    "csv_path = 'C:\\\\Users\\\\leon\\\\Desktop\\\\meso4f2f-fp-only.csv'\n",
    "with open(csv_path, 'w', newline='') as csv_file:\n",
    "    csv_writer = csv.writer(csv_file)\n",
    "    csv_writer.writerow(['subset', 'filename', 'prediction'])\n",
    "    csv_writer.writerows(filter(lambda x: float(x[2]) <= 0.5, meso4f2f_predictions))"
   ]
  },
  {
   "cell_type": "code",
   "execution_count": 16,
   "metadata": {},
   "outputs": [],
   "source": [
    "csv_path = 'C:\\\\Users\\\\leon\\\\Desktop\\\\mesoinception4df.csv'\n",
    "with open(csv_path, 'w', newline='') as csv_file:\n",
    "    csv_writer = csv.writer(csv_file)\n",
    "    csv_writer.writerow(['subset', 'filename', 'prediction'])\n",
    "    csv_writer.writerows(mesoinception4df_predictions)"
   ]
  },
  {
   "cell_type": "code",
   "execution_count": 17,
   "metadata": {},
   "outputs": [],
   "source": [
    "csv_path = 'C:\\\\Users\\\\leon\\\\Desktop\\\\mesoinception4df-fp-only.csv'\n",
    "with open(csv_path, 'w', newline='') as csv_file:\n",
    "    csv_writer = csv.writer(csv_file)\n",
    "    csv_writer.writerow(['subset', 'filename', 'prediction'])\n",
    "    csv_writer.writerows(filter(lambda x: float(x[2]) <= 0.5, mesoinception4df_predictions))"
   ]
  },
  {
   "cell_type": "code",
   "execution_count": 18,
   "metadata": {},
   "outputs": [],
   "source": [
    "csv_path = 'C:\\\\Users\\\\leon\\\\Desktop\\\\mesoinception4f2f.csv'\n",
    "with open(csv_path, 'w', newline='') as csv_file:\n",
    "    csv_writer = csv.writer(csv_file)\n",
    "    csv_writer.writerow(['subset', 'filename', 'prediction'])\n",
    "    csv_writer.writerows(mesoinception4f2f_predictions)"
   ]
  },
  {
   "cell_type": "code",
   "execution_count": 19,
   "metadata": {},
   "outputs": [],
   "source": [
    "csv_path = 'C:\\\\Users\\\\leon\\\\Desktop\\\\mesoinception4f2f-fp-only.csv'\n",
    "with open(csv_path, 'w', newline='') as csv_file:\n",
    "    csv_writer = csv.writer(csv_file)\n",
    "    csv_writer.writerow(['subset', 'filename', 'prediction'])\n",
    "    csv_writer.writerows(filter(lambda x: float(x[2]) <= 0.5, mesoinception4f2f_predictions))"
   ]
  }
 ],
 "metadata": {
  "interpreter": {
   "hash": "30f210566bbaf12db4321b54eda45f94097bcf3ffb9c1b8dd9360fa034182282"
  },
  "kernelspec": {
   "display_name": "Python 3.9.9 64-bit",
   "language": "python",
   "name": "python3"
  },
  "language_info": {
   "codemirror_mode": {
    "name": "ipython",
    "version": 3
   },
   "file_extension": ".py",
   "mimetype": "text/x-python",
   "name": "python",
   "nbconvert_exporter": "python",
   "pygments_lexer": "ipython3",
   "version": "3.9.9"
  },
  "orig_nbformat": 4
 },
 "nbformat": 4,
 "nbformat_minor": 2
}
