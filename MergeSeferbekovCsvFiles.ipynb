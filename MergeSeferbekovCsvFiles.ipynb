{
 "cells": [
  {
   "cell_type": "code",
   "execution_count": 8,
   "metadata": {},
   "outputs": [],
   "source": [
    "import os\n",
    "import glob\n",
    "import csv"
   ]
  },
  {
   "cell_type": "code",
   "execution_count": 9,
   "metadata": {},
   "outputs": [],
   "source": [
    "path_pattern = 'C:\\\\Users\\\\leon\\\\Desktop\\\\WICHTIG2\\\\*\\\\*'\n",
    "predictions = []\n",
    "for file_path in glob.glob(path_pattern):\n",
    "    subset = os.path.basename(os.path.abspath(os.path.join(file_path, os.path.pardir)))\n",
    "    with open(file_path, 'r') as file:\n",
    "        item = file.read().splitlines()[1:]\n",
    "    predictions.extend([ (subset, x.split(',')[0], x.split(',')[1]) for x in item ])"
   ]
  },
  {
   "cell_type": "code",
   "execution_count": 10,
   "metadata": {},
   "outputs": [
    {
     "data": {
      "text/plain": [
       "6022"
      ]
     },
     "execution_count": 10,
     "metadata": {},
     "output_type": "execute_result"
    }
   ],
   "source": [
    "len(predictions)"
   ]
  },
  {
   "cell_type": "code",
   "execution_count": 11,
   "metadata": {},
   "outputs": [
    {
     "data": {
      "text/plain": [
       "65"
      ]
     },
     "execution_count": 11,
     "metadata": {},
     "output_type": "execute_result"
    }
   ],
   "source": [
    "len(list(filter(lambda x: float(x[2]) >= 0.5, predictions)))"
   ]
  },
  {
   "cell_type": "code",
   "execution_count": 12,
   "metadata": {},
   "outputs": [],
   "source": [
    "csv_path = 'C:\\\\Users\\\\leon\\\\Desktop\\\\dfdc.csv'\n",
    "with open(csv_path, 'w', newline='') as csv_file:\n",
    "    csv_writer = csv.writer(csv_file)\n",
    "    csv_writer.writerow(['subset', 'filename', 'prediction'])\n",
    "    csv_writer.writerows(predictions)"
   ]
  },
  {
   "cell_type": "code",
   "execution_count": 13,
   "metadata": {},
   "outputs": [],
   "source": [
    "csv_path = 'C:\\\\Users\\\\leon\\\\Desktop\\\\dfdc-fp-only.csv'\n",
    "with open(csv_path, 'w', newline='') as csv_file:\n",
    "    csv_writer = csv.writer(csv_file)\n",
    "    csv_writer.writerow(['subset', 'filename', 'prediction'])\n",
    "    csv_writer.writerows(filter(lambda x: float(x[2]) >= 0.5, predictions))"
   ]
  }
 ],
 "metadata": {
  "interpreter": {
   "hash": "30f210566bbaf12db4321b54eda45f94097bcf3ffb9c1b8dd9360fa034182282"
  },
  "kernelspec": {
   "display_name": "Python 3.9.9 64-bit",
   "language": "python",
   "name": "python3"
  },
  "language_info": {
   "codemirror_mode": {
    "name": "ipython",
    "version": 3
   },
   "file_extension": ".py",
   "mimetype": "text/x-python",
   "name": "python",
   "nbconvert_exporter": "python",
   "pygments_lexer": "ipython3",
   "version": "3.9.9"
  },
  "orig_nbformat": 4
 },
 "nbformat": 4,
 "nbformat_minor": 2
}
