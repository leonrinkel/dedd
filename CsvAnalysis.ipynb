{
 "cells": [
  {
   "cell_type": "code",
   "execution_count": 51,
   "metadata": {},
   "outputs": [],
   "source": [
    "import json\n",
    "import os\n",
    "import csv\n",
    "import numpy as np"
   ]
  },
  {
   "cell_type": "code",
   "execution_count": 52,
   "metadata": {},
   "outputs": [],
   "source": [
    "annotations_path = '/Users/leonrinkel/Desktop/CasualConversations_mini.json'\n",
    "with open(annotations_path) as annotations_file:\n",
    "    _annotations = json.load(annotations_file)"
   ]
  },
  {
   "cell_type": "code",
   "execution_count": 53,
   "metadata": {},
   "outputs": [],
   "source": [
    "annotations = []\n",
    "for _, annotation in _annotations.items():\n",
    "    for file in annotation['files']:\n",
    "        subset = os.path.basename(os.path.abspath(os.path.join(file, os.path.pardir, os.path.pardir)))\n",
    "        filename = os.path.basename(os.path.abspath(file))\n",
    "        label = annotation['label']\n",
    "        label['lighting'] = 'dark' if file in annotation['dark_files'] else 'light'\n",
    "        annotations.append((subset, filename, label))"
   ]
  },
  {
   "cell_type": "code",
   "execution_count": 54,
   "metadata": {},
   "outputs": [],
   "source": [
    "csv_path = '/Users/leonrinkel/Desktop/mesonet/meso4df.csv'\n",
    "annotated_overall = []\n",
    "with open(csv_path, newline='') as csv_file:\n",
    "    csv_reader = csv.reader(csv_file, delimiter=',')\n",
    "    next(csv_reader)\n",
    "    for subset, filename, _ in csv_reader:\n",
    "        item = next(filter(lambda x: x[0] == subset and x[1] == filename, annotations))\n",
    "        annotated_overall.append(item)"
   ]
  },
  {
   "cell_type": "code",
   "execution_count": 55,
   "metadata": {},
   "outputs": [],
   "source": [
    "csv_path = '/Users/leonrinkel/Desktop/mesonet/meso4df-fp-only.csv'\n",
    "annotated_fps = []\n",
    "with open(csv_path, newline='') as csv_file:\n",
    "    csv_reader = csv.reader(csv_file, delimiter=',')\n",
    "    next(csv_reader)\n",
    "    for subset, filename, _ in csv_reader:\n",
    "        item = next(filter(lambda x: x[0] == subset and x[1] == filename, annotations))\n",
    "        annotated_fps.append(item)"
   ]
  },
  {
   "cell_type": "code",
   "execution_count": 56,
   "metadata": {},
   "outputs": [
    {
     "data": {
      "text/plain": [
       "3824"
      ]
     },
     "execution_count": 56,
     "metadata": {},
     "output_type": "execute_result"
    }
   ],
   "source": [
    "len(annotated_overall)"
   ]
  },
  {
   "cell_type": "code",
   "execution_count": 57,
   "metadata": {},
   "outputs": [
    {
     "data": {
      "text/plain": [
       "246"
      ]
     },
     "execution_count": 57,
     "metadata": {},
     "output_type": "execute_result"
    }
   ],
   "source": [
    "len(annotated_fps)"
   ]
  },
  {
   "cell_type": "code",
   "execution_count": 58,
   "metadata": {},
   "outputs": [
    {
     "name": "stdout",
     "output_type": "stream",
     "text": [
      "6.43\n"
     ]
    }
   ],
   "source": [
    "fpr = float(len(annotated_fps)) / float(len(annotated_overall))\n",
    "print('{:4.2f}'.format(100 * fpr))"
   ]
  },
  {
   "cell_type": "code",
   "execution_count": 59,
   "metadata": {},
   "outputs": [
    {
     "name": "stdout",
     "output_type": "stream",
     "text": [
      "1280\n",
      "1346\n",
      "1126\n"
     ]
    }
   ],
   "source": [
    "overall_age_group_a = 0\n",
    "overall_age_group_b = 0\n",
    "overall_age_group_c = 0\n",
    "for _, _, label in annotated_overall:\n",
    "    try:\n",
    "        age = int(label['age'])\n",
    "        if age >= 18 and age <= 30: overall_age_group_a += 1\n",
    "        elif age >= 31 and age <= 45: overall_age_group_b += 1\n",
    "        elif age >= 46 and age <= 85: overall_age_group_c += 1\n",
    "    except: continue\n",
    "print(overall_age_group_a)\n",
    "print(overall_age_group_b)\n",
    "print(overall_age_group_c)"
   ]
  },
  {
   "cell_type": "code",
   "execution_count": 60,
   "metadata": {},
   "outputs": [
    {
     "name": "stdout",
     "output_type": "stream",
     "text": [
      "80\n",
      "86\n",
      "75\n"
     ]
    }
   ],
   "source": [
    "age_group_a = 0\n",
    "age_group_b = 0\n",
    "age_group_c = 0\n",
    "for _, _, label in annotated_fps:\n",
    "    try:\n",
    "        age = int(label['age'])\n",
    "        if age >= 18 and age <= 30: age_group_a += 1\n",
    "        elif age >= 31 and age <= 45: age_group_b += 1\n",
    "        elif age >= 46 and age <= 85: age_group_c += 1\n",
    "    except: continue\n",
    "print(age_group_a)\n",
    "print(age_group_b)\n",
    "print(age_group_c)"
   ]
  },
  {
   "cell_type": "code",
   "execution_count": 61,
   "metadata": {},
   "outputs": [
    {
     "name": "stdout",
     "output_type": "stream",
     "text": [
      "6.25\n",
      "6.39\n",
      "6.66\n"
     ]
    }
   ],
   "source": [
    "fpr_a = float(age_group_a) / float(overall_age_group_a)\n",
    "fpr_b = float(age_group_b) / float(overall_age_group_b)\n",
    "fpr_c = float(age_group_c) / float(overall_age_group_c)\n",
    "print('{:4.2f}'.format(100 * fpr_a))\n",
    "print('{:4.2f}'.format(100 * fpr_b))\n",
    "print('{:4.2f}'.format(100 * fpr_c))"
   ]
  },
  {
   "cell_type": "code",
   "execution_count": 62,
   "metadata": {},
   "outputs": [
    {
     "name": "stdout",
     "output_type": "stream",
     "text": [
      "2048\n",
      "1710\n"
     ]
    }
   ],
   "source": [
    "overall_female = 0\n",
    "overall_male = 0\n",
    "for _, _, label in annotated_overall:\n",
    "    if label['gender'] == 'Female': overall_female += 1\n",
    "    elif label['gender'] == 'Male': overall_male += 1\n",
    "print(overall_female)\n",
    "print(overall_male)"
   ]
  },
  {
   "cell_type": "code",
   "execution_count": 63,
   "metadata": {},
   "outputs": [
    {
     "name": "stdout",
     "output_type": "stream",
     "text": [
      "165\n",
      "75\n"
     ]
    }
   ],
   "source": [
    "female = 0\n",
    "male = 0\n",
    "for _, _, label in annotated_fps:\n",
    "    if label['gender'] == 'Female': female += 1\n",
    "    elif label['gender'] == 'Male': male += 1\n",
    "print(female)\n",
    "print(male)"
   ]
  },
  {
   "cell_type": "code",
   "execution_count": 64,
   "metadata": {},
   "outputs": [
    {
     "name": "stdout",
     "output_type": "stream",
     "text": [
      "8.06\n",
      "4.39\n"
     ]
    }
   ],
   "source": [
    "fpr_f = float(female) / float(overall_female)\n",
    "fpr_m = float(male) / float(overall_male)\n",
    "print('{:4.2f}'.format(100 * fpr_f))\n",
    "print('{:4.2f}'.format(100 * fpr_m))"
   ]
  },
  {
   "cell_type": "code",
   "execution_count": 65,
   "metadata": {},
   "outputs": [
    {
     "name": "stdout",
     "output_type": "stream",
     "text": [
      "134\n",
      "844\n",
      "984\n",
      "378\n",
      "640\n",
      "844\n"
     ]
    }
   ],
   "source": [
    "overall_skin_type_1 = 0\n",
    "overall_skin_type_2 = 0\n",
    "overall_skin_type_3 = 0\n",
    "overall_skin_type_4 = 0\n",
    "overall_skin_type_5 = 0\n",
    "overall_skin_type_6 = 0\n",
    "for _, _, label in annotated_overall:\n",
    "    if label['skin-type'] == '1': overall_skin_type_1 += 1\n",
    "    elif label['skin-type'] == '2': overall_skin_type_2 += 1\n",
    "    elif label['skin-type'] == '3': overall_skin_type_3 += 1\n",
    "    elif label['skin-type'] == '4': overall_skin_type_4 += 1\n",
    "    elif label['skin-type'] == '5': overall_skin_type_5 += 1\n",
    "    elif label['skin-type'] == '6': overall_skin_type_6 += 1\n",
    "print(overall_skin_type_1)\n",
    "print(overall_skin_type_2)\n",
    "print(overall_skin_type_3)\n",
    "print(overall_skin_type_4)\n",
    "print(overall_skin_type_5)\n",
    "print(overall_skin_type_6)"
   ]
  },
  {
   "cell_type": "code",
   "execution_count": 66,
   "metadata": {},
   "outputs": [
    {
     "name": "stdout",
     "output_type": "stream",
     "text": [
      "17\n",
      "87\n",
      "67\n",
      "21\n",
      "36\n",
      "18\n"
     ]
    }
   ],
   "source": [
    "skin_type_1 = 0\n",
    "skin_type_2 = 0\n",
    "skin_type_3 = 0\n",
    "skin_type_4 = 0\n",
    "skin_type_5 = 0\n",
    "skin_type_6 = 0\n",
    "for _, _, label in annotated_fps:\n",
    "    if label['skin-type'] == '1': skin_type_1 += 1\n",
    "    elif label['skin-type'] == '2': skin_type_2 += 1\n",
    "    elif label['skin-type'] == '3': skin_type_3 += 1\n",
    "    elif label['skin-type'] == '4': skin_type_4 += 1\n",
    "    elif label['skin-type'] == '5': skin_type_5 += 1\n",
    "    elif label['skin-type'] == '6': skin_type_6 += 1\n",
    "print(skin_type_1)\n",
    "print(skin_type_2)\n",
    "print(skin_type_3)\n",
    "print(skin_type_4)\n",
    "print(skin_type_5)\n",
    "print(skin_type_6)"
   ]
  },
  {
   "cell_type": "code",
   "execution_count": 67,
   "metadata": {},
   "outputs": [
    {
     "name": "stdout",
     "output_type": "stream",
     "text": [
      "12.69\n",
      "10.31\n",
      "6.81\n",
      "5.56\n",
      "5.62\n",
      "2.13\n"
     ]
    }
   ],
   "source": [
    "fpr_1 = float(skin_type_1) / float(overall_skin_type_1)\n",
    "fpr_2 = float(skin_type_2) / float(overall_skin_type_2)\n",
    "fpr_3 = float(skin_type_3) / float(overall_skin_type_3)\n",
    "fpr_4 = float(skin_type_4) / float(overall_skin_type_4)\n",
    "fpr_5 = float(skin_type_5) / float(overall_skin_type_5)\n",
    "fpr_6 = float(skin_type_6) / float(overall_skin_type_6)\n",
    "print('{:4.2f}'.format(100 * fpr_1))\n",
    "print('{:4.2f}'.format(100 * fpr_2))\n",
    "print('{:4.2f}'.format(100 * fpr_3))\n",
    "print('{:4.2f}'.format(100 * fpr_4))\n",
    "print('{:4.2f}'.format(100 * fpr_5))\n",
    "print('{:4.2f}'.format(100 * fpr_6))"
   ]
  },
  {
   "cell_type": "code",
   "execution_count": 68,
   "metadata": {},
   "outputs": [
    {
     "name": "stdout",
     "output_type": "stream",
     "text": [
      "2820\n",
      "1004\n"
     ]
    }
   ],
   "source": [
    "overall_light = 0\n",
    "overall_dark = 0\n",
    "for _, _, label in annotated_overall:\n",
    "    if label['lighting'] == 'light': overall_light += 1\n",
    "    elif label['lighting'] == 'dark': overall_dark += 1\n",
    "print(overall_light)\n",
    "print(overall_dark)"
   ]
  },
  {
   "cell_type": "code",
   "execution_count": 69,
   "metadata": {},
   "outputs": [
    {
     "name": "stdout",
     "output_type": "stream",
     "text": [
      "182\n",
      "64\n"
     ]
    }
   ],
   "source": [
    "light = 0\n",
    "dark = 0\n",
    "for _, _, label in annotated_fps:\n",
    "    if label['lighting'] == 'light': light += 1\n",
    "    elif label['lighting'] == 'dark': dark += 1\n",
    "print(light)\n",
    "print(dark)"
   ]
  },
  {
   "cell_type": "code",
   "execution_count": 70,
   "metadata": {},
   "outputs": [
    {
     "name": "stdout",
     "output_type": "stream",
     "text": [
      "6.45\n",
      "6.37\n"
     ]
    }
   ],
   "source": [
    "fpr_l = float(light) / float(overall_light)\n",
    "fpr_d = float(dark) / float(overall_dark)\n",
    "print('{:4.2f}'.format(100 * fpr_l))\n",
    "print('{:4.2f}'.format(100 * fpr_d))"
   ]
  },
  {
   "cell_type": "code",
   "execution_count": null,
   "metadata": {},
   "outputs": [],
   "source": []
  }
 ],
 "metadata": {
  "interpreter": {
   "hash": "e8b3d7a8515917cd2ec98a9a7c4744d48ebd2b1a09e9509dddca21e2f1c7912b"
  },
  "kernelspec": {
   "display_name": "Python 3.9.7 64-bit ('base': conda)",
   "language": "python",
   "name": "python3"
  },
  "language_info": {
   "codemirror_mode": {
    "name": "ipython",
    "version": 3
   },
   "file_extension": ".py",
   "mimetype": "text/x-python",
   "name": "python",
   "nbconvert_exporter": "python",
   "pygments_lexer": "ipython3",
   "version": "3.9.7"
  },
  "orig_nbformat": 4
 },
 "nbformat": 4,
 "nbformat_minor": 2
}
