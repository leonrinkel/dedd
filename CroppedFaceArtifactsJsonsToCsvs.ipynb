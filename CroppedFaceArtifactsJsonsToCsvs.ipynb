{
 "cells": [
  {
   "cell_type": "code",
   "execution_count": 1,
   "metadata": {},
   "outputs": [],
   "source": [
    "import glob\n",
    "import json\n",
    "import os\n",
    "import numpy as np\n",
    "import csv"
   ]
  },
  {
   "cell_type": "code",
   "execution_count": 2,
   "metadata": {},
   "outputs": [],
   "source": [
    "predictions = []\n",
    "file_pattern = 'X:\\\\Leon Rinkel\\\\DFDDOutput\\\\*\\\\*\\\\*\\\\warp.json'\n",
    "for file_path in glob.glob(file_pattern):\n",
    "    with open(file_path) as file:\n",
    "        data = json.load(file)\n",
    "    subset = os.path.basename(os.path.abspath(os.path.join(file_path, os.path.pardir, os.path.pardir, os.path.pardir)))\n",
    "    filename = os.path.basename(os.path.abspath(os.path.join(file_path, os.path.pardir))).replace('_warp', '.MP4')\n",
    "    probs = [float(x['probability']) for x in data['predictions']]\n",
    "    prob = np.mean(sorted(probs, reverse=True)[:int(100 / 3)])\n",
    "    predictions.append((subset, filename, prob))"
   ]
  },
  {
   "cell_type": "code",
   "execution_count": 3,
   "metadata": {},
   "outputs": [
    {
     "data": {
      "text/plain": [
       "1225"
      ]
     },
     "execution_count": 3,
     "metadata": {},
     "output_type": "execute_result"
    }
   ],
   "source": [
    "len(predictions)"
   ]
  },
  {
   "cell_type": "code",
   "execution_count": 4,
   "metadata": {},
   "outputs": [
    {
     "name": "stdout",
     "output_type": "stream",
     "text": [
      "200\n"
     ]
    }
   ],
   "source": [
    "print(len(list(filter(lambda x: float(x[2]) >= 0.5, predictions))))"
   ]
  },
  {
   "cell_type": "code",
   "execution_count": 5,
   "metadata": {},
   "outputs": [],
   "source": [
    "csv_path = 'C:\\\\Users\\\\leon\\\\Desktop\\\\faceartifacts-cropped.csv'\n",
    "with open(csv_path, 'w', newline='') as csv_file:\n",
    "    csv_writer = csv.writer(csv_file)\n",
    "    csv_writer.writerow(['subset', 'filename', 'prediction'])\n",
    "    csv_writer.writerows(predictions)"
   ]
  },
  {
   "cell_type": "code",
   "execution_count": 6,
   "metadata": {},
   "outputs": [],
   "source": [
    "csv_path = 'C:\\\\Users\\\\leon\\\\Desktop\\\\faceartifacts-cropped-fp-only.csv'\n",
    "with open(csv_path, 'w', newline='') as csv_file:\n",
    "    csv_writer = csv.writer(csv_file)\n",
    "    csv_writer.writerow(['subset', 'filename', 'prediction'])\n",
    "    csv_writer.writerows(filter(lambda x: float(x[2]) >= 0.5, predictions))"
   ]
  },
  {
   "cell_type": "code",
   "execution_count": null,
   "metadata": {},
   "outputs": [],
   "source": []
  }
 ],
 "metadata": {
  "interpreter": {
   "hash": "30f210566bbaf12db4321b54eda45f94097bcf3ffb9c1b8dd9360fa034182282"
  },
  "kernelspec": {
   "display_name": "Python 3.9.9 64-bit",
   "language": "python",
   "name": "python3"
  },
  "language_info": {
   "codemirror_mode": {
    "name": "ipython",
    "version": 3
   },
   "file_extension": ".py",
   "mimetype": "text/x-python",
   "name": "python",
   "nbconvert_exporter": "python",
   "pygments_lexer": "ipython3",
   "version": "3.9.9"
  },
  "orig_nbformat": 4
 },
 "nbformat": 4,
 "nbformat_minor": 2
}
